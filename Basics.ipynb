{
 "cells": [
  {
   "cell_type": "markdown",
   "id": "1bebd9f7",
   "metadata": {},
   "source": [
    "# Basics"
   ]
  },
  {
   "cell_type": "markdown",
   "id": "bc1d468e",
   "metadata": {},
   "source": [
    "Calculating output of a neuron based on its inputs, weights and bias"
   ]
  },
  {
   "cell_type": "code",
   "execution_count": 8,
   "id": "eb9b31b5",
   "metadata": {},
   "outputs": [],
   "source": [
    "import random"
   ]
  },
  {
   "cell_type": "code",
   "execution_count": 9,
   "id": "cd5cdcaf",
   "metadata": {},
   "outputs": [],
   "source": [
    "inputs = [1,2,3,4]\n",
    "weights = [3, -1, 2, 0]\n",
    "bias = 3.9"
   ]
  },
  {
   "cell_type": "code",
   "execution_count": 10,
   "id": "8dc755af",
   "metadata": {},
   "outputs": [],
   "source": [
    "def get_neuron_output(inputs: list, weights: list, bias: float) -> float:\n",
    "    return sum(\n",
    "        input * weight for input, weight in zip(inputs, weights)\n",
    "    ) + bias"
   ]
  },
  {
   "cell_type": "code",
   "execution_count": 11,
   "id": "4dd6818c",
   "metadata": {},
   "outputs": [
    {
     "data": {
      "text/plain": [
       "10.9"
      ]
     },
     "execution_count": 11,
     "metadata": {},
     "output_type": "execute_result"
    }
   ],
   "source": [
    "get_neuron_output(inputs, weights, bias)"
   ]
  },
  {
   "cell_type": "markdown",
   "id": "4e2e7a46",
   "metadata": {},
   "source": [
    "## Computing outputs for a layer of neurons"
   ]
  },
  {
   "cell_type": "code",
   "execution_count": 16,
   "id": "72f3039a",
   "metadata": {},
   "outputs": [],
   "source": [
    "class Neuron(object):\n",
    "    INPUTS: list\n",
    "    WEIGHTS: list\n",
    "    BIAS: float\n",
    "        \n",
    "    def __init__(self, inputs: list, weights: list, bias: list):\n",
    "        self.INPUTS = inputs\n",
    "        self.WEIGHTS = weights\n",
    "        self.BIAS = bias\n",
    "        \n",
    "    def get_output(self):\n",
    "        return sum(\n",
    "            input * weight for input, weight in zip(inputs, weights)\n",
    "        ) + bias"
   ]
  },
  {
   "cell_type": "code",
   "execution_count": 20,
   "id": "b74a329c",
   "metadata": {},
   "outputs": [
    {
     "name": "stdout",
     "output_type": "stream",
     "text": [
      "Using 2.3678419348498503, 1.0703110994839111, 4.616641817047384, 2.1147813100132278 (4) inputs\n",
      "Resulting output from neurons is \n",
      "\t[29.276998513894497, 30.80513989550513, 35.0785962807766, 29.528920623837276, 32.18641424038266]\n"
     ]
    }
   ],
   "source": [
    "num_of_neurons = 5\n",
    "num_of_inputs = 4\n",
    "\n",
    "inputs = [random.uniform(1, 5) for _ in range(num_of_inputs)] # Generate random inputs\n",
    "print(f'Using {\", \".join(map(str, inputs))} ({len(inputs)}) inputs')\n",
    "\n",
    "outputs = []\n",
    "\n",
    "for _ in range(num_of_neurons):\n",
    "    # Generate random weights\n",
    "    weights = [random.uniform(2, 4) for _ in range(num_of_inputs)]\n",
    "    bias = random.random()\n",
    "    neuron = Neuron(inputs, weights, bias)\n",
    "    outputs.append(neuron.get_output())\n",
    "\n",
    "print(f'Resulting output from neurons is \\n\\t{outputs}')\n"
   ]
  },
  {
   "cell_type": "markdown",
   "id": "17eae366",
   "metadata": {},
   "source": [
    "## Calculating dot product of vectors"
   ]
  },
  {
   "cell_type": "code",
   "execution_count": 23,
   "id": "8c6891f3",
   "metadata": {},
   "outputs": [],
   "source": [
    "def dot(a: list, b: list):\n",
    "    assert len(a) == len(b), 'Input vectors must be equal in lenght'\n",
    "    return sum([a_i * b_i for a_i, b_i in zip(a, b)])"
   ]
  },
  {
   "cell_type": "code",
   "execution_count": 24,
   "id": "68066002",
   "metadata": {},
   "outputs": [
    {
     "data": {
      "text/plain": [
       "20"
      ]
     },
     "execution_count": 24,
     "metadata": {},
     "output_type": "execute_result"
    }
   ],
   "source": [
    "a = [1,2,3]\n",
    "b = [2,3,4]\n",
    "\n",
    "dot(a,b)"
   ]
  },
  {
   "cell_type": "markdown",
   "id": "eba6980a",
   "metadata": {},
   "source": [
    "Since dot product is essentially what we do when we compute neuron output by multiplying weights by inputs (without adding bias), we can rewrite the neuron class to use it. We will use numpy"
   ]
  },
  {
   "cell_type": "code",
   "execution_count": 26,
   "id": "cd688772",
   "metadata": {},
   "outputs": [],
   "source": [
    "import numpy as np"
   ]
  },
  {
   "cell_type": "code",
   "execution_count": 27,
   "id": "0af1a33c",
   "metadata": {},
   "outputs": [],
   "source": [
    "class Neuron(object):\n",
    "    INPUTS: list\n",
    "    WEIGHTS: list\n",
    "    BIAS: float\n",
    "        \n",
    "    def __init__(self, inputs: list, weights: list, bias: list):\n",
    "        self.INPUTS = inputs\n",
    "        self.WEIGHTS = weights\n",
    "        self.BIAS = bias\n",
    "        \n",
    "    def get_output(self):\n",
    "        return np.dot(inputs, weights) + bias"
   ]
  },
  {
   "cell_type": "code",
   "execution_count": 28,
   "id": "d0e0eeea",
   "metadata": {},
   "outputs": [
    {
     "data": {
      "text/plain": [
       "4.8"
      ]
     },
     "execution_count": 28,
     "metadata": {},
     "output_type": "execute_result"
    }
   ],
   "source": [
    "inputs = [1.0, 2.0, 3.0, 2.5]\n",
    "weights = [0.2, 0.8, -0.5, 1.0]\n",
    "bias = 2.0\n",
    "\n",
    "Neuron(inputs, weights, bias).get_output()"
   ]
  },
  {
   "cell_type": "markdown",
   "id": "ead04b08",
   "metadata": {},
   "source": [
    "Now let's represent weights as matrices and compute the outputs of neurons using numpy:"
   ]
  },
  {
   "cell_type": "code",
   "execution_count": 36,
   "id": "35fa0aac",
   "metadata": {},
   "outputs": [
    {
     "name": "stdout",
     "output_type": "stream",
     "text": [
      "[4.8   1.21  2.385]\n"
     ]
    }
   ],
   "source": [
    "inputs = [1.0, 2.0, 3.0, 2.5]\n",
    "weights = [\n",
    "    [0.2,    0.8,  -0.5,    1],\n",
    "    [0.5,   -0.91, 0.26, -0.5],\n",
    "    [-0.26, -0.27, 0.17, 0.87]\n",
    "]\n",
    "biases = [2.0, 3.0, 0.5]\n",
    "# The first argument of np.dot determines the way it will work\n",
    "layer_output = np.dot(weights, inputs) + biases\n",
    "print(layer_output)"
   ]
  },
  {
   "cell_type": "markdown",
   "id": "ba10fe47",
   "metadata": {},
   "source": [
    "In order to get better performance from the neural network and reduce training time, we might pass in batches of samples instead of one sample at a time. To do that, we'll use matrices"
   ]
  },
  {
   "cell_type": "code",
   "execution_count": 47,
   "id": "1ec59186",
   "metadata": {},
   "outputs": [
    {
     "name": "stdout",
     "output_type": "stream",
     "text": [
      "[[ 4.8    1.21   2.385]\n",
      " [ 8.9   -1.81   0.2  ]\n",
      " [ 1.41   1.051  0.026]]\n"
     ]
    }
   ],
   "source": [
    "# define the params as matrices\n",
    "inputs = np.array([\n",
    "    [1.0, 2.0, 3.0, 2.5],\n",
    "    [2.0, 5.0, -1.0, 2],\n",
    "    [-1.5, 2.7, 3.3, -0.8],\n",
    "])\n",
    "\n",
    "weights = np.array([\n",
    "    [0.2,    0.8,  -0.5,    1],\n",
    "    [0.5,   -0.91, 0.26, -0.5],\n",
    "    [-0.26, -0.27, 0.17, 0.87]\n",
    "]).T\n",
    "\n",
    "biases = [2.0, 3.0, 0.5]\n",
    "\n",
    "output = np.dot(inputs, weights) + biases\n",
    "print(output)"
   ]
  },
  {
   "cell_type": "markdown",
   "id": "616ee32b",
   "metadata": {},
   "source": [
    "## Adding hidden layers"
   ]
  },
  {
   "cell_type": "code",
   "execution_count": 51,
   "id": "cb0641c9",
   "metadata": {},
   "outputs": [
    {
     "name": "stdout",
     "output_type": "stream",
     "text": [
      "Layer 1 has the following output:\n",
      "[[ 4.8    1.21   2.385]\n",
      " [ 8.9   -1.81   0.2  ]\n",
      " [ 1.41   1.051  0.026]]\n",
      "\n",
      "Layer 2 has the following output:\n",
      "[[ 0.5031  -1.04185 -2.03875]\n",
      " [ 0.2434  -2.7332  -5.7633 ]\n",
      " [-0.99314  1.41254 -0.35655]]\n"
     ]
    }
   ],
   "source": [
    "# Specify inputs. Let's think that they came from the input layer\n",
    "inputs = np.array([\n",
    "    [1.0, 2.0, 3.0, 2.5],\n",
    "    [2.0, 5.0, -1.0, 2],\n",
    "    [-1.5, 2.7, 3.3, -0.8],\n",
    "])\n",
    "\n",
    "# Define weights for the first \"hidden\" layer and transpose them immediately\n",
    "weights_1 = np.array([\n",
    "    [0.2,    0.8,  -0.5,    1],\n",
    "    [0.5,   -0.91, 0.26, -0.5],\n",
    "    [-0.26, -0.27, 0.17, 0.87]\n",
    "]).T\n",
    "\n",
    "# Define biases for the first \"hidden\" layer\n",
    "biases_1 = [2.0, 3.0, 0.5]\n",
    "\n",
    "# Calculate the output of the layer\n",
    "output_1 = np.dot(inputs, weights_1) + biases_1\n",
    "\n",
    "print(f'Layer 1 has the following output:\\n{output_1}\\n')\n",
    "\n",
    "# Now it's time to specify weights and biases for the second \"hidden\" layer\n",
    "\n",
    "# Define weights for the second \"hidden\" layer and transpose them immediately\n",
    "weights_2 = np.array([\n",
    "    [0.1, -0.14, 0.5],\n",
    "    [-0.5, 0.12, -0.33],\n",
    "    [-0.44, 0.73, -0.13]\n",
    "]).T\n",
    "\n",
    "# Define biases for the second \"hidden\" layer\n",
    "biases_2 = [-1, 2, -0.5]\n",
    "\n",
    "# Now compute the output of the second hidden layer. We use matrix of outputs from our first hidden layer as the input\n",
    "# for the second one\n",
    "output_2 = np.dot(output_1, weights_2) + biases_2\n",
    "\n",
    "print(f'Layer 2 has the following output:\\n{output_2}')"
   ]
  },
  {
   "cell_type": "markdown",
   "id": "f1ff57ea",
   "metadata": {},
   "source": [
    "## Training data"
   ]
  },
  {
   "cell_type": "code",
   "execution_count": 54,
   "id": "ec2230cb",
   "metadata": {},
   "outputs": [
    {
     "name": "stdout",
     "output_type": "stream",
     "text": [
      "Requirement already satisfied: nnfs in c:\\users\\mivchenko\\appdata\\local\\programs\\python\\python39\\lib\\site-packages (0.5.1)\n",
      "Requirement already satisfied: numpy in c:\\users\\mivchenko\\appdata\\local\\programs\\python\\python39\\lib\\site-packages (from nnfs) (1.19.5)\n"
     ]
    }
   ],
   "source": [
    "!pip install nnfs"
   ]
  },
  {
   "cell_type": "code",
   "execution_count": 63,
   "id": "2ab492f1",
   "metadata": {},
   "outputs": [],
   "source": [
    "import numpy as np\n",
    "import matplotlib.pyplot as plt\n",
    "from nnfs.datasets import spiral_data\n",
    "import nnfs # This package is imported so the results are consistent with the book\n",
    "nnfs.init()"
   ]
  },
  {
   "cell_type": "code",
   "execution_count": 65,
   "id": "8fd0c505",
   "metadata": {},
   "outputs": [
    {
     "data": {
      "image/png": "[encoded data removed]",
      "text/plain": [
       "<Figure size 432x288 with 1 Axes>"
      ]
     },
     "metadata": {
      "needs_background": "light"
     },
     "output_type": "display_data"
    }
   ],
   "source": [
    "X, y = spiral_data(samples=100, classes=3)\n",
    "plt.scatter(X[:,0], X[:,1], c=y, cmap='brg')\n",
    "plt.show()"
   ]
  },
  {
   "cell_type": "markdown",
   "id": "e820f2ab",
   "metadata": {},
   "source": [
    "## Creating Dense layer class"
   ]
  },
  {
   "cell_type": "code",
   "execution_count": 82,
   "id": "413c505f",
   "metadata": {},
   "outputs": [],
   "source": [
    "class Dense(object):\n",
    "    \n",
    "    def __init__(self, inputs: int, neurons: int):\n",
    "        # Initialize weights randomly\n",
    "        # Each COLUMN in the resulting matrix is a neuron's weights\n",
    "        # It is done to avoid transposing the weights matrix every time we make a forward pass\n",
    "        # np.random.randn produces a Gaussian distribution with mean of 0 and variance of 1\n",
    "        self.weights = 0.01 * np.random.randn(inputs, neurons)\n",
    "        # Biases default to zero\n",
    "        self.biases = np.zeros((1, neurons))\n",
    "    \n",
    "    def forward(self, inputs):\n",
    "        self.output = np.dot(inputs, self.weights) + self.biases\n",
    "        return self.output"
   ]
  },
  {
   "cell_type": "code",
   "execution_count": 88,
   "id": "87f62a92",
   "metadata": {},
   "outputs": [
    {
     "name": "stdout",
     "output_type": "stream",
     "text": [
      "Shape of input data: (300, 2)\n",
      "[[-0.00000000e+00  0.00000000e+00]\n",
      " [ 1.37348089e-03  1.00071952e-02]\n",
      " [-1.44654105e-05  2.02020146e-02]\n",
      " [ 1.50569687e-02  2.62975544e-02]\n",
      " [ 1.24119539e-02  3.84503566e-02]]\n",
      "\n",
      "Shape of output data: (300, 3)\n",
      "[[ 0.0000000e+00  0.0000000e+00  0.0000000e+00]\n",
      " [-1.3084782e-04 -2.7931663e-05 -1.3951084e-04]\n",
      " [-3.1899303e-04 -6.8864749e-05 -2.6318090e-04]\n",
      " [-1.1859162e-04 -2.2151436e-05 -4.4242095e-04]\n",
      " [-3.6236181e-04 -7.5380311e-05 -5.8328360e-04]]\n"
     ]
    }
   ],
   "source": [
    "# Create a dataset\n",
    "x, y = spiral_data(samples=100, classes=3)\n",
    "print(f'Shape of input data: {x.shape}')\n",
    "print(x[:5])\n",
    "\n",
    "dense_1 = Dense(inputs=2, neurons=3)\n",
    "output = dense_1.forward(x)\n",
    "print(f'\\nShape of output data: {output.shape}')\n",
    "print(output[:5])"
   ]
  }
 ],
 "metadata": {
  "kernelspec": {
   "display_name": "Python 3 (ipykernel)",
   "language": "python",
   "name": "python3"
  },
  "language_info": {
   "codemirror_mode": {
    "name": "ipython",
    "version": 3
   },
   "file_extension": ".py",
   "mimetype": "text/x-python",
   "name": "python",
   "nbconvert_exporter": "python",
   "pygments_lexer": "ipython3",
   "version": "3.9.6"
  }
 },
 "nbformat": 4,
 "nbformat_minor": 5
}
