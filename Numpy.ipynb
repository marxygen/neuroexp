{
 "cells": [
  {
   "cell_type": "markdown",
   "id": "66bee217",
   "metadata": {},
   "source": [
    "# Experiments with numpy\n",
    "Since numpy is probably the most used library for machine learning, it makes sense to get to terms with it before attempting any machine learning projects let alone coding neural networks by scratch\n",
    "Some examples and functions are taken from the videos but **almost all of them are compliant with most recent Numpy documentation and show how to do things the way developers want us to**"
   ]
  },
  {
   "cell_type": "code",
   "execution_count": 1,
   "id": "3cf15281",
   "metadata": {},
   "outputs": [],
   "source": [
    "import numpy as np"
   ]
  },
  {
   "cell_type": "code",
   "execution_count": 284,
   "id": "4750111c",
   "metadata": {},
   "outputs": [],
   "source": [
    "a = np.array([1,2,3])\n",
    "b = np.array([2,3,4])"
   ]
  },
  {
   "cell_type": "markdown",
   "id": "0c259857",
   "metadata": {},
   "source": [
    "### Generating random numbers"
   ]
  },
  {
   "cell_type": "markdown",
   "id": "dbe9d75b",
   "metadata": {},
   "source": [
    "#### 1. Generating normal distribution"
   ]
  },
  {
   "cell_type": "code",
   "execution_count": 285,
   "id": "5ca3ec50",
   "metadata": {
    "scrolled": true
   },
   "outputs": [
    {
     "name": "stdout",
     "output_type": "stream",
     "text": [
      "Generated the following values: [ 1.21474849  0.32415033 -0.55194599 -0.47414816 -1.51741449  2.48325047\n",
      " -2.44421036  0.84181934 -2.07546317 -0.19359826]\n",
      "Mean: -0.2392811791073855\n",
      "Standard deviation: 1.4503284012701576\n"
     ]
    }
   ],
   "source": [
    "# Generate 5 numbers in NORMAL distribution\n",
    "# Their mean is 0 and standard deviation is 1 (values approach these numbers as number of samples grows larger)\n",
    "from numpy.random import default_rng\n",
    "rng = default_rng()\n",
    "vals = rng.standard_normal(size=10)\n",
    "print(f'Generated the following values: {vals}')\n",
    "print(f'Mean: {vals.mean()}')\n",
    "print(f'Standard deviation: {vals.std()}')"
   ]
  },
  {
   "cell_type": "markdown",
   "id": "249e6036",
   "metadata": {},
   "source": [
    "#### 2. Generating random integer"
   ]
  },
  {
   "cell_type": "code",
   "execution_count": 286,
   "id": "48059d3e",
   "metadata": {},
   "outputs": [
    {
     "data": {
      "text/plain": [
       "3"
      ]
     },
     "execution_count": 286,
     "metadata": {},
     "output_type": "execute_result"
    }
   ],
   "source": [
    "# This code is considered obsolete by numpy documentation\n",
    "# BUT it's much shorter than the proposed version\n",
    "\n",
    "# Pass in `endpoint` - max value\n",
    "# Generates a positive integer\n",
    "np.random.randint(10)"
   ]
  },
  {
   "cell_type": "markdown",
   "id": "48e35001",
   "metadata": {},
   "source": [
    "#### 3. Generating random float"
   ]
  },
  {
   "cell_type": "code",
   "execution_count": 287,
   "id": "7df18163",
   "metadata": {},
   "outputs": [
    {
     "data": {
      "text/plain": [
       "0.29298680094102125"
      ]
     },
     "execution_count": 287,
     "metadata": {},
     "output_type": "execute_result"
    }
   ],
   "source": [
    "# Pass in `endpoint` - max value\n",
    "# Generates a positive integer\n",
    "rng.random()"
   ]
  },
  {
   "cell_type": "markdown",
   "id": "2c98f720",
   "metadata": {},
   "source": [
    "#### 4. Generating random integers"
   ]
  },
  {
   "cell_type": "code",
   "execution_count": 288,
   "id": "e21f66d3",
   "metadata": {},
   "outputs": [
    {
     "data": {
      "text/plain": [
       "array([2, 1, 6], dtype=int64)"
      ]
     },
     "execution_count": 288,
     "metadata": {},
     "output_type": "execute_result"
    }
   ],
   "source": [
    "np.random.default_rng().integers(low=0, high=10, size=3)"
   ]
  },
  {
   "cell_type": "markdown",
   "id": "196bf082",
   "metadata": {},
   "source": [
    "#### 5. Generating random matrices of specified dimension"
   ]
  },
  {
   "cell_type": "code",
   "execution_count": 289,
   "id": "ae7d5654",
   "metadata": {
    "scrolled": true
   },
   "outputs": [
    {
     "data": {
      "text/plain": [
       "array([[0.47275638, 0.34312846, 0.42893538],\n",
       "       [0.65517461, 0.96530486, 0.46701301]])"
      ]
     },
     "execution_count": 289,
     "metadata": {},
     "output_type": "execute_result"
    }
   ],
   "source": [
    "np.random.rand(2,3)"
   ]
  },
  {
   "cell_type": "markdown",
   "id": "bbb91fd9",
   "metadata": {},
   "source": [
    "#### 6. Generating matrices filled with specified number"
   ]
  },
  {
   "cell_type": "code",
   "execution_count": 290,
   "id": "63ed58b3",
   "metadata": {},
   "outputs": [
    {
     "data": {
      "text/plain": [
       "array([[0., 0., 0.],\n",
       "       [0., 0., 0.]])"
      ]
     },
     "execution_count": 290,
     "metadata": {},
     "output_type": "execute_result"
    }
   ],
   "source": [
    "# Create an array of zeros\n",
    "np.zeros((2,3))"
   ]
  },
  {
   "cell_type": "code",
   "execution_count": 328,
   "id": "9e82be5a",
   "metadata": {},
   "outputs": [
    {
     "data": {
      "text/plain": [
       "array([[1., 1., 1.],\n",
       "       [1., 1., 1.]])"
      ]
     },
     "execution_count": 328,
     "metadata": {},
     "output_type": "execute_result"
    }
   ],
   "source": [
    "# Create an array of 1s\n",
    "np.ones((2,3))"
   ]
  },
  {
   "cell_type": "code",
   "execution_count": 329,
   "id": "4bc5634a",
   "metadata": {},
   "outputs": [
    {
     "data": {
      "text/plain": [
       "array([[7.3],\n",
       "       [7.3]])"
      ]
     },
     "execution_count": 329,
     "metadata": {},
     "output_type": "execute_result"
    }
   ],
   "source": [
    "# Create an array filled with specified number\n",
    "np.full((2,1), 7.3)"
   ]
  },
  {
   "cell_type": "code",
   "execution_count": 330,
   "id": "32afbff3",
   "metadata": {},
   "outputs": [
    {
     "data": {
      "text/plain": [
       "array([[1., 0.],\n",
       "       [0., 1.]])"
      ]
     },
     "execution_count": 330,
     "metadata": {},
     "output_type": "execute_result"
    }
   ],
   "source": [
    "# Create an identity matrix of specified dimension\n",
    "np.eye(2)"
   ]
  },
  {
   "cell_type": "code",
   "execution_count": 334,
   "id": "5803922d",
   "metadata": {},
   "outputs": [
    {
     "data": {
      "text/plain": [
       "array([-10.,  -5.,   0.,   5.,  10.])"
      ]
     },
     "execution_count": 334,
     "metadata": {},
     "output_type": "execute_result"
    }
   ],
   "source": [
    "# Generate a homogenous distribution between specified values\n",
    "# Num param is the number of numbers to generate between specified values\n",
    "# Values are equally spaced\n",
    "znp.linspace(start=-10, stop=10, num=5)"
   ]
  },
  {
   "cell_type": "markdown",
   "id": "01833187",
   "metadata": {},
   "source": [
    "### When multiplying vectors, the arrays are mutiplied elementwise"
   ]
  },
  {
   "cell_type": "code",
   "execution_count": 292,
   "id": "9b7736a3",
   "metadata": {},
   "outputs": [
    {
     "data": {
      "text/plain": [
       "array([ 2,  6, 12])"
      ]
     },
     "execution_count": 292,
     "metadata": {},
     "output_type": "execute_result"
    }
   ],
   "source": [
    "a * b"
   ]
  },
  {
   "cell_type": "markdown",
   "id": "9629d0c2",
   "metadata": {},
   "source": [
    "### Dot product\n",
    "Dot product **of vectors** is essentially the summation of the result of vector multiplication"
   ]
  },
  {
   "cell_type": "code",
   "execution_count": 293,
   "id": "bbc6e99f",
   "metadata": {},
   "outputs": [
    {
     "name": "stdout",
     "output_type": "stream",
     "text": [
      "Dot product: 20\n",
      "Sum of vector multiplication: 20\n"
     ]
    }
   ],
   "source": [
    "print(f'Dot product: {np.dot(a, b)}')\n",
    "print(f'Sum of vector multiplication: {(a * b).sum() }')"
   ]
  },
  {
   "cell_type": "markdown",
   "id": "badf8088",
   "metadata": {},
   "source": [
    "## Numpy arrays"
   ]
  },
  {
   "cell_type": "code",
   "execution_count": 294,
   "id": "0b7e7691",
   "metadata": {},
   "outputs": [
    {
     "data": {
      "text/plain": [
       "(array([1, 2, 3]), 1, (3,))"
      ]
     },
     "execution_count": 294,
     "metadata": {},
     "output_type": "execute_result"
    }
   ],
   "source": [
    "# A vector\n",
    "vector = np.array([1,2,3])\n",
    "\n",
    "vector, vector.ndim, vector.shape"
   ]
  },
  {
   "cell_type": "code",
   "execution_count": 295,
   "id": "92214d47",
   "metadata": {},
   "outputs": [
    {
     "data": {
      "text/plain": [
       "(array([[1, 2, 3],\n",
       "        [4, 5, 6],\n",
       "        [5, 6, 7]]),\n",
       " 2,\n",
       " (3, 3))"
      ]
     },
     "execution_count": 295,
     "metadata": {},
     "output_type": "execute_result"
    }
   ],
   "source": [
    "# A matrix\n",
    "matrix = np.array([\n",
    "    [1,2,3],\n",
    "    [4,5,6],\n",
    "    [5,6,7]\n",
    "])\n",
    "\n",
    "matrix, matrix.ndim, matrix.shape"
   ]
  },
  {
   "cell_type": "markdown",
   "id": "bfe3f51a",
   "metadata": {},
   "source": [
    "#### Array slices and indexing"
   ]
  },
  {
   "cell_type": "code",
   "execution_count": 296,
   "id": "42ac296d",
   "metadata": {},
   "outputs": [
    {
     "name": "stdout",
     "output_type": "stream",
     "text": [
      "2\n",
      "2\n"
     ]
    }
   ],
   "source": [
    "# Accessing the array just like a list of lists works:\n",
    "print(matrix[0][1])\n",
    "\n",
    "# Accessing the array a more numpy way:\n",
    "print(matrix[0, 1])"
   ]
  },
  {
   "cell_type": "code",
   "execution_count": 297,
   "id": "fa4dc348",
   "metadata": {},
   "outputs": [
    {
     "name": "stdout",
     "output_type": "stream",
     "text": [
      "[2 5 6]\n"
     ]
    }
   ],
   "source": [
    "# Slices also work\n",
    "# Here we take only the second (index 1) COLUMN throughout ALL rows\n",
    "print(matrix[:, 1])"
   ]
  },
  {
   "cell_type": "code",
   "execution_count": 298,
   "id": "cdd6d972",
   "metadata": {},
   "outputs": [
    {
     "name": "stdout",
     "output_type": "stream",
     "text": [
      "[1 5]\n"
     ]
    }
   ],
   "source": [
    "# Here we take the first element in the first and last row\n",
    "print(matrix[0::2, 0])"
   ]
  },
  {
   "cell_type": "code",
   "execution_count": 299,
   "id": "817bdeca",
   "metadata": {},
   "outputs": [
    {
     "data": {
      "text/plain": [
       "False"
      ]
     },
     "execution_count": 299,
     "metadata": {},
     "output_type": "execute_result"
    }
   ],
   "source": [
    "# Note that slicing copies the object\n",
    "matrix[:,:] is matrix"
   ]
  },
  {
   "cell_type": "markdown",
   "id": "bf72f2d4",
   "metadata": {},
   "source": [
    "#### Other operations with ND-arrays"
   ]
  },
  {
   "cell_type": "code",
   "execution_count": 300,
   "id": "8c438838",
   "metadata": {},
   "outputs": [
    {
     "name": "stdout",
     "output_type": "stream",
     "text": [
      "Matrix:\n",
      "[[1 2 3]\n",
      " [4 5 6]\n",
      " [5 6 7]]\n",
      "Transposed:\n",
      "[[1 4 5]\n",
      " [2 5 6]\n",
      " [3 6 7]]\n"
     ]
    }
   ],
   "source": [
    "print('Matrix:', matrix, sep='\\n')\n",
    "# Transpose\n",
    "print('Transposed:', matrix.T, sep='\\n')"
   ]
  },
  {
   "cell_type": "code",
   "execution_count": 301,
   "id": "9f81508a",
   "metadata": {},
   "outputs": [
    {
     "data": {
      "text/plain": [
       "array([[-2.81474977e+14,  1.12589991e+15, -8.44424930e+14],\n",
       "       [ 5.62949953e+14, -2.25179981e+15,  1.68884986e+15],\n",
       "       [-2.81474977e+14,  1.12589991e+15, -8.44424930e+14]])"
      ]
     },
     "execution_count": 301,
     "metadata": {},
     "output_type": "execute_result"
    }
   ],
   "source": [
    "# Find the inverse\n",
    "np.linalg.inv(matrix)"
   ]
  },
  {
   "cell_type": "code",
   "execution_count": 302,
   "id": "f53f2a2e",
   "metadata": {},
   "outputs": [
    {
     "data": {
      "text/plain": [
       "3.552713678800486e-15"
      ]
     },
     "execution_count": 302,
     "metadata": {},
     "output_type": "execute_result"
    }
   ],
   "source": [
    "# Find the determinant\n",
    "np.linalg.det(matrix)"
   ]
  },
  {
   "cell_type": "code",
   "execution_count": 303,
   "id": "0b442790",
   "metadata": {},
   "outputs": [
    {
     "data": {
      "text/plain": [
       "array([1, 5, 7])"
      ]
     },
     "execution_count": 303,
     "metadata": {},
     "output_type": "execute_result"
    }
   ],
   "source": [
    "# Get the diagonal\n",
    "np.diag(matrix)"
   ]
  },
  {
   "cell_type": "code",
   "execution_count": 304,
   "id": "5bf7601c",
   "metadata": {},
   "outputs": [
    {
     "data": {
      "text/plain": [
       "array([[1, 0, 0],\n",
       "       [0, 5, 0],\n",
       "       [0, 0, 7]])"
      ]
     },
     "execution_count": 304,
     "metadata": {},
     "output_type": "execute_result"
    }
   ],
   "source": [
    "# If we send a vector to `diag` function, it will create a matrix where every element except for the diagonal is 0\n",
    "np.diag(np.diag(matrix))"
   ]
  },
  {
   "cell_type": "code",
   "execution_count": 305,
   "id": "b10fd770",
   "metadata": {},
   "outputs": [
    {
     "data": {
      "text/plain": [
       "array([[False, False, False],\n",
       "       [False, False,  True],\n",
       "       [False,  True,  True]])"
      ]
     },
     "execution_count": 305,
     "metadata": {},
     "output_type": "execute_result"
    }
   ],
   "source": [
    "# Boolean indexing\n",
    "# Returns a matrix of the same shape filled with bools\n",
    "matrix > 5"
   ]
  },
  {
   "cell_type": "code",
   "execution_count": 306,
   "id": "ccadb0c7",
   "metadata": {},
   "outputs": [
    {
     "data": {
      "text/plain": [
       "array([6, 6, 7])"
      ]
     },
     "execution_count": 306,
     "metadata": {},
     "output_type": "execute_result"
    }
   ],
   "source": [
    "# Get a 1D array of all elements matching the specified condition\n",
    "matrix[matrix > 5]"
   ]
  },
  {
   "cell_type": "code",
   "execution_count": 307,
   "id": "14e62707",
   "metadata": {},
   "outputs": [
    {
     "data": {
      "text/plain": [
       "array([[-1, -1,  3],\n",
       "       [ 4,  5,  6],\n",
       "       [ 5,  6,  7]])"
      ]
     },
     "execution_count": 307,
     "metadata": {},
     "output_type": "execute_result"
    }
   ],
   "source": [
    "# Returns array OF THE SAME dimensions where elements satisfying the condition are kept (prop a) and\n",
    "# other values are replaced by -1\n",
    "np.where(matrix > 2, matrix, -1)"
   ]
  },
  {
   "cell_type": "code",
   "execution_count": 308,
   "id": "73a78872",
   "metadata": {},
   "outputs": [
    {
     "data": {
      "text/plain": [
       "array([[0, 1, 0],\n",
       "       [2, 3, 0],\n",
       "       [7, 0, 0]])"
      ]
     },
     "execution_count": 308,
     "metadata": {},
     "output_type": "execute_result"
    }
   ],
   "source": [
    "m2 = np.array([\n",
    "    [-5, 1, 0],\n",
    "    [2, 3, -9],\n",
    "    [7, 0, 0]\n",
    "])\n",
    "\n",
    "# Replace all elements less or equal to zero with zero\n",
    "np.where(m2 <= 0, 0, m2)"
   ]
  },
  {
   "cell_type": "code",
   "execution_count": 309,
   "id": "0d8597af",
   "metadata": {},
   "outputs": [],
   "source": [
    "# Same as above\n",
    "m2[m2 <= 0] = 0"
   ]
  },
  {
   "cell_type": "code",
   "execution_count": 310,
   "id": "da8b9320",
   "metadata": {},
   "outputs": [
    {
     "data": {
      "text/plain": [
       "array([2, 3, 4])"
      ]
     },
     "execution_count": 310,
     "metadata": {},
     "output_type": "execute_result"
    }
   ],
   "source": [
    "# Fancy indexing\n",
    "a = np.array([1,2,3,4,5])\n",
    "b = [1,2,3]\n",
    "# Extracts elements with indeces specified in `b`\n",
    "a[b]"
   ]
  },
  {
   "cell_type": "markdown",
   "id": "2278cbb5",
   "metadata": {},
   "source": [
    "#### Working with indices"
   ]
  },
  {
   "cell_type": "code",
   "execution_count": 311,
   "id": "f2b75042",
   "metadata": {},
   "outputs": [
    {
     "data": {
      "text/plain": [
       "array([[1],\n",
       "       [3]], dtype=int64)"
      ]
     },
     "execution_count": 311,
     "metadata": {},
     "output_type": "execute_result"
    }
   ],
   "source": [
    "# Returns an array of indices of elements matching the condition\n",
    "np.argwhere(a%2==0)"
   ]
  },
  {
   "cell_type": "code",
   "execution_count": 312,
   "id": "3c0a5d84",
   "metadata": {},
   "outputs": [
    {
     "data": {
      "text/plain": [
       "array([[2],\n",
       "       [4]])"
      ]
     },
     "execution_count": 312,
     "metadata": {},
     "output_type": "execute_result"
    }
   ],
   "source": [
    "a[np.argwhere(a%2==0)]"
   ]
  },
  {
   "cell_type": "code",
   "execution_count": 313,
   "id": "700a37d9",
   "metadata": {},
   "outputs": [
    {
     "data": {
      "text/plain": [
       "array([1, 3], dtype=int64)"
      ]
     },
     "execution_count": 313,
     "metadata": {},
     "output_type": "execute_result"
    }
   ],
   "source": [
    "# Same but returns flattened list\n",
    "np.argwhere(a%2==0).flatten()"
   ]
  },
  {
   "cell_type": "code",
   "execution_count": 314,
   "id": "898b3282",
   "metadata": {},
   "outputs": [
    {
     "data": {
      "text/plain": [
       "array([2, 4])"
      ]
     },
     "execution_count": 314,
     "metadata": {},
     "output_type": "execute_result"
    }
   ],
   "source": [
    "a[np.argwhere(a%2==0).flatten()]"
   ]
  },
  {
   "cell_type": "markdown",
   "id": "e3d5b56d",
   "metadata": {},
   "source": [
    "#### Generating a list of numbers"
   ]
  },
  {
   "cell_type": "code",
   "execution_count": 315,
   "id": "ce228f3c",
   "metadata": {},
   "outputs": [
    {
     "data": {
      "text/plain": [
       "array([1, 2])"
      ]
     },
     "execution_count": 315,
     "metadata": {},
     "output_type": "execute_result"
    }
   ],
   "source": [
    "np.arange(1, 3)"
   ]
  },
  {
   "cell_type": "markdown",
   "id": "422aaae3",
   "metadata": {},
   "source": [
    "#### Reshaping"
   ]
  },
  {
   "cell_type": "code",
   "execution_count": 316,
   "id": "acfc3d81",
   "metadata": {},
   "outputs": [
    {
     "name": "stdout",
     "output_type": "stream",
     "text": [
      "[1 2 3 4 5 6 7 8 9]\n",
      "Shape: (9,)\n",
      "# of dimensions: 1\n"
     ]
    }
   ],
   "source": [
    "# Suppose we have a list of numbers\n",
    "a = np.arange(1, 10)\n",
    "print(a)\n",
    "print('Shape:', a.shape)\n",
    "print('# of dimensions:', a.ndim)"
   ]
  },
  {
   "cell_type": "code",
   "execution_count": 317,
   "id": "25ba5255",
   "metadata": {},
   "outputs": [
    {
     "name": "stdout",
     "output_type": "stream",
     "text": [
      "[[1 2 3]\n",
      " [4 5 6]\n",
      " [7 8 9]]\n",
      "Shape: (3, 3)\n",
      "# of dimensions: 2\n"
     ]
    }
   ],
   "source": [
    "# Now reshape so it's 3x3\n",
    "b = a.reshape((3,3))\n",
    "print(b)\n",
    "print('Shape:', b.shape)\n",
    "print('# of dimensions:', b.ndim)"
   ]
  },
  {
   "cell_type": "markdown",
   "id": "7067ac43",
   "metadata": {},
   "source": [
    "#### Adding dimensions"
   ]
  },
  {
   "cell_type": "code",
   "execution_count": 318,
   "id": "f54e7991",
   "metadata": {},
   "outputs": [
    {
     "name": "stdout",
     "output_type": "stream",
     "text": [
      "Before reshaping: [1 2 3 4 5 6 7 8 9]\n",
      "Shape: (3, 3)\n",
      "# of dimensions: 2\n",
      "\n",
      "Add new horizontal axis [[1 2 3 4 5 6 7 8 9]]\n",
      "Shape: (1, 9)\n",
      "# of dimensions: 2\n",
      "\n",
      "Add new vertical axis\n",
      " [[1]\n",
      " [2]\n",
      " [3]\n",
      " [4]\n",
      " [5]\n",
      " [6]\n",
      " [7]\n",
      " [8]\n",
      " [9]]\n",
      "Shape: (9, 1)\n",
      "# of dimensions: 2\n"
     ]
    }
   ],
   "source": [
    "a = np.arange(1, 10)\n",
    "print('Before reshaping:', a)\n",
    "print('Shape:', b.shape)\n",
    "print('# of dimensions:', b.ndim)\n",
    "print()\n",
    "# Add new axis\n",
    "b = a[np.newaxis, :]\n",
    "print('Add new horizontal axis', b)\n",
    "print('Shape:', b.shape)\n",
    "print('# of dimensions:', b.ndim)\n",
    "print()\n",
    "b = a[:, np.newaxis]\n",
    "print('Add new vertical axis\\n', b)\n",
    "print('Shape:', b.shape)\n",
    "print('# of dimensions:', b.ndim)"
   ]
  },
  {
   "cell_type": "code",
   "execution_count": 319,
   "id": "083226d5",
   "metadata": {},
   "outputs": [
    {
     "name": "stdout",
     "output_type": "stream",
     "text": [
      "Mean: 2.822222222222222\n",
      "Modified matrix:\n",
      " [[-0.92222222  2.87777778  1.07777778]\n",
      " [ 0.47777778 -0.72222222 -1.82222222]\n",
      " [-1.72222222  0.37777778  0.37777778]]\n",
      "Indices of elements whose absolute value is NOT within the threshold: \n",
      " [[0 0]\n",
      " [0 1]\n",
      " [0 2]\n",
      " [1 1]\n",
      " [1 2]\n",
      " [2 0]]\n"
     ]
    }
   ],
   "source": [
    "# Computing the mean of the matrix and decreasing each element by it\n",
    "ma = np.array([\n",
    "    [1.9, 5.7, 3.9],\n",
    "    [3.3, 2.1, 1],\n",
    "    [1.1, 3.2, 3.2]\n",
    "])\n",
    "\n",
    "print('Mean:', ma.mean())\n",
    "ma -= ma.mean()\n",
    "print('Modified matrix:\\n', ma)\n",
    "\n",
    "threshold = 0.7\n",
    "\n",
    "print('Indices of elements whose absolute value is NOT within the threshold: \\n', np.argwhere(abs(ma) > threshold))"
   ]
  },
  {
   "cell_type": "markdown",
   "id": "f1713641",
   "metadata": {},
   "source": [
    "#### Concatenating arrays"
   ]
  },
  {
   "cell_type": "code",
   "execution_count": 320,
   "id": "f112ae29",
   "metadata": {},
   "outputs": [
    {
     "name": "stdout",
     "output_type": "stream",
     "text": [
      "Concatenating along axis 0 (as rows):\n",
      " [[1 2 3]\n",
      " [0 0 0]\n",
      " [5 6 7]\n",
      " [1 1 1]]\n",
      "\n",
      "Concatenating along axis 1 (as columns):\n",
      " [[1 2 3 5 6 7]\n",
      " [0 0 0 1 1 1]]\n"
     ]
    }
   ],
   "source": [
    "a = np.array([\n",
    "    [1,2,3],\n",
    "    [0,0,0]\n",
    "])\n",
    "\n",
    "b = np.array([\n",
    "    [5,6,7],\n",
    "    [1,1,1]\n",
    "])\n",
    "\n",
    "print('Concatenating along axis 0 (as rows):\\n', np.concatenate((a,b), axis=0))\n",
    "print()\n",
    "print('Concatenating along axis 1 (as columns):\\n', np.concatenate((a,b), axis=1))"
   ]
  },
  {
   "cell_type": "code",
   "execution_count": 321,
   "id": "b9c01e73",
   "metadata": {},
   "outputs": [
    {
     "name": "stdout",
     "output_type": "stream",
     "text": [
      "HStack:\n",
      " [[1 2 3 5 6 7]\n",
      " [0 0 0 1 1 1]]\n",
      "\n",
      "VStack:\n",
      " [[1 2 3]\n",
      " [0 0 0]\n",
      " [5 6 7]\n",
      " [1 1 1]]\n"
     ]
    }
   ],
   "source": [
    "# Stacking arrays\n",
    "print('HStack:\\n', np.hstack((a, b))) # Same as concatenating columns\n",
    "print()\n",
    "print('VStack:\\n', np.vstack((a,b))) # Same as concatenating rows"
   ]
  },
  {
   "cell_type": "markdown",
   "id": "c41b795e",
   "metadata": {},
   "source": [
    "#### Datascience functions"
   ]
  },
  {
   "cell_type": "code",
   "execution_count": 322,
   "id": "db208a75",
   "metadata": {},
   "outputs": [
    {
     "data": {
      "text/plain": [
       "array([[1, 0, 1],\n",
       "       [1, 5, 6],\n",
       "       [1, 8, 9]])"
      ]
     },
     "execution_count": 322,
     "metadata": {},
     "output_type": "execute_result"
    }
   ],
   "source": [
    "a = np.array([\n",
    "    [1,0,1],\n",
    "    [1,5,6],\n",
    "    [1,8,9]\n",
    "])\n",
    "a"
   ]
  },
  {
   "cell_type": "code",
   "execution_count": 323,
   "id": "9e4debae",
   "metadata": {},
   "outputs": [
    {
     "data": {
      "text/plain": [
       "32"
      ]
     },
     "execution_count": 323,
     "metadata": {},
     "output_type": "execute_result"
    }
   ],
   "source": [
    "a.sum() # Sum all of the elements"
   ]
  },
  {
   "cell_type": "code",
   "execution_count": 324,
   "id": "ad0b1bfa",
   "metadata": {},
   "outputs": [
    {
     "data": {
      "text/plain": [
       "array([ 2, 12, 18])"
      ]
     },
     "execution_count": 324,
     "metadata": {},
     "output_type": "execute_result"
    }
   ],
   "source": [
    "a.sum(axis=1) # Sum elements in rows"
   ]
  },
  {
   "cell_type": "code",
   "execution_count": 325,
   "id": "df8ca639",
   "metadata": {},
   "outputs": [
    {
     "data": {
      "text/plain": [
       "array([ 3, 13, 16])"
      ]
     },
     "execution_count": 325,
     "metadata": {},
     "output_type": "execute_result"
    }
   ],
   "source": [
    "a.sum(axis=0) # Sum elements in columns"
   ]
  },
  {
   "cell_type": "code",
   "execution_count": 326,
   "id": "25639384",
   "metadata": {},
   "outputs": [
    {
     "data": {
      "text/plain": [
       "array([ 0.        , 10.88888889, 10.88888889])"
      ]
     },
     "execution_count": 326,
     "metadata": {},
     "output_type": "execute_result"
    }
   ],
   "source": [
    "# Variance along columns\n",
    "a.var(axis=0)"
   ]
  },
  {
   "cell_type": "code",
   "execution_count": 327,
   "id": "616af434",
   "metadata": {},
   "outputs": [
    {
     "data": {
      "text/plain": [
       "array([0.47140452, 2.1602469 , 3.55902608])"
      ]
     },
     "execution_count": 327,
     "metadata": {},
     "output_type": "execute_result"
    }
   ],
   "source": [
    "# Standard deviation along rows\n",
    "a.std(axis=1)"
   ]
  },
  {
   "cell_type": "markdown",
   "id": "cf54b9d2",
   "metadata": {},
   "source": [
    "### About dot product"
   ]
  },
  {
   "cell_type": "code",
   "execution_count": 8,
   "id": "fd82626f",
   "metadata": {},
   "outputs": [],
   "source": [
    "\"\"\"\n",
    "If a is an N-D array and b is a 1-D array, it is a sum product over the last axis of a and b.\n",
    "\n",
    "If a is an N-D array and b is an M-D array (where M>=2), it is a sum product\n",
    "over the last axis of a and the second-to-last axis of b\n",
    "\"\"\"\n",
    "inputs = np.array([\n",
    "    [1., -2., 3.],\n",
    "    [-1., 2., -3.],\n",
    "])\n",
    "\n",
    "d_relu=np.array([\n",
    "    [6.]\n",
    "])\n",
    "\n",
    "# We were calculating dweights - the derivative of activation function w.r.t. inputs.\n",
    "# If we have multiple inputs for current neuron we expect to see them as rows in our matrix\n",
    "\n",
    "# The derivative is calculated by multiplying each input by derivatives of the activation function OF EACH INPUT\n"
   ]
  },
  {
   "cell_type": "markdown",
   "id": "d27fcefd",
   "metadata": {},
   "source": [
    "ReLU function derivative returns 1 or 0 for each sum, so it returns a np.array with `n` rows and 1 column for `n` inputs. When we multiply it by the `dvalues` we get the following array as the value of `d_relu`:\n",
    "```Python\n",
    "[[6.]\n",
    " [0.]]\n",
    "```\n",
    "Each row corresponds to an input entry. Thus, to get the product of "
   ]
  },
  {
   "cell_type": "code",
   "execution_count": null,
   "id": "141620f8",
   "metadata": {},
   "outputs": [],
   "source": []
  },
  {
   "cell_type": "code",
   "execution_count": null,
   "id": "39c66c37",
   "metadata": {},
   "outputs": [],
   "source": []
  }
 ],
 "metadata": {
  "kernelspec": {
   "display_name": "Python 3 (ipykernel)",
   "language": "python",
   "name": "python3"
  },
  "language_info": {
   "codemirror_mode": {
    "name": "ipython",
    "version": 3
   },
   "file_extension": ".py",
   "mimetype": "text/x-python",
   "name": "python",
   "nbconvert_exporter": "python",
   "pygments_lexer": "ipython3",
   "version": "3.9.6"
  }
 },
 "nbformat": 4,
 "nbformat_minor": 5
}
