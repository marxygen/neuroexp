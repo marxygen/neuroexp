{
 "cells": [
  {
   "cell_type": "code",
   "execution_count": 31,
   "id": "8e6ff989",
   "metadata": {},
   "outputs": [],
   "source": [
    "import numpy as np\n",
    "from math import pi\n",
    "from matplotlib import pyplot as plt"
   ]
  },
  {
   "cell_type": "code",
   "execution_count": 147,
   "id": "b86b5447",
   "metadata": {},
   "outputs": [
    {
     "data": {
      "text/plain": [
       "[<matplotlib.lines.Line2D at 0x171aa92b760>]"
      ]
     },
     "execution_count": 147,
     "metadata": {},
     "output_type": "execute_result"
    },
    {
     "data": {
      "image/png": "[encoded data removed]",
      "text/plain": [
       "<Figure size 432x288 with 1 Axes>"
      ]
     },
     "metadata": {
      "needs_background": "light"
     },
     "output_type": "display_data"
    }
   ],
   "source": [
    "inputs = np.array(np.linspace(-10*pi, 10*pi, 10000))\n",
    "inputs = inputs.reshape(len(inputs), 1)\n",
    "\n",
    "train_x = inputs[:9001]\n",
    "train_y = np.sin(train_x)\n",
    "\n",
    "test_x = inputs[9000:]\n",
    "test_y = np.sin(test_x)\n",
    "\n",
    "plt.plot(train_x, train_y)"
   ]
  },
  {
   "cell_type": "code",
   "execution_count": 154,
   "id": "b79a4869",
   "metadata": {},
   "outputs": [],
   "source": [
    "class Dense(object):\n",
    "    @staticmethod\n",
    "    def linear(x: np.array, deriv=False):\n",
    "        if deriv:\n",
    "            return np.ones_like(x)\n",
    "        return x\n",
    "        \n",
    "    def __init__(self, *, neurons: int, inputs: int, activation='relu'):\n",
    "        self.neurons_num = neurons\n",
    "        self.inputs_num = inputs\n",
    "        self.weights = np.random.randn(inputs, neurons)\n",
    "        self.biases = np.random.randn(1, neurons)\n",
    "        \n",
    "    def forward(self, inputs):\n",
    "        self.values = inputs @ self.weights + self.biases\n",
    "        self.outputs = self.linear(x=self.values)\n",
    "        return self.outputs\n",
    "    \n",
    "    def backward(self, dvalues, next_layers: list):\n",
    "        \n",
    "        print(self.linear(self.values, deriv=True))\n",
    "        \n",
    "\n",
    "class NeuralNetwork(object):\n",
    "    def __init__(self, layers: list, learning_rate=0.001):\n",
    "        self.layers = layers\n",
    "        self.learning_rate = learning_rate\n",
    "        \n",
    "    @staticmethod\n",
    "    def l2loss(predicted, targets, deriv=False):\n",
    "        if deriv:\n",
    "            # Check!!\n",
    "            return 2 * np.sum(predicted, axis=1, keepdims=True)\n",
    "        return np.sum( np.power(targets - predicted, 2) )\n",
    "        \n",
    "    def predict(self, inputs: np.array):\n",
    "        \"\"\"Predict the outputs for given inputs\"\"\"\n",
    "        value = inputs.copy()\n",
    "        \n",
    "        for layer in self.layers:\n",
    "            value = layer.forward(value)\n",
    "            \n",
    "        return value\n",
    "    \n",
    "    def validate(self, predictions, targets, verbose=True):\n",
    "        \"\"\"Validate predicted against targets\"\"\"\n",
    "        loss = self.l2loss(predictions, targets)\n",
    "        if verbose:\n",
    "            print(f'MSE: {loss:.5f}')\n",
    "        return loss\n",
    "    \n",
    "    def forward(self, inputs, targets, verbose=True):\n",
    "        \"\"\"Perform forward pass\"\"\"\n",
    "        self.values = self.predict(inputs)\n",
    "        self.targets = targets\n",
    "        \n",
    "        loss = self.validate(self.values, targets, verbose)\n",
    "        \n",
    "    def backward(self):\n",
    "        \"\"\"Perform backward pass\"\"\"\n",
    "        loss_deriv = self.l2loss(self.values, self.targets, deriv=True).T\n",
    "        for layer in self.layers:\n",
    "            layer.backward(dvalues=loss_deriv, next_layers=self.layers[1:])"
   ]
  },
  {
   "cell_type": "code",
   "execution_count": 155,
   "id": "1e8fab4f",
   "metadata": {},
   "outputs": [
    {
     "name": "stdout",
     "output_type": "stream",
     "text": [
      "MSE: 6744788.65226\n",
      "[[1. 1.]\n",
      " [1. 1.]\n",
      " [1. 1.]\n",
      " ...\n",
      " [1. 1.]\n",
      " [1. 1.]\n",
      " [1. 1.]]\n",
      "[[1. 1. 1.]\n",
      " [1. 1. 1.]\n",
      " [1. 1. 1.]\n",
      " ...\n",
      " [1. 1. 1.]\n",
      " [1. 1. 1.]\n",
      " [1. 1. 1.]]\n",
      "[[1. 1.]\n",
      " [1. 1.]\n",
      " [1. 1.]\n",
      " ...\n",
      " [1. 1.]\n",
      " [1. 1.]\n",
      " [1. 1.]]\n",
      "[[1.]\n",
      " [1.]\n",
      " [1.]\n",
      " ...\n",
      " [1.]\n",
      " [1.]\n",
      " [1.]]\n"
     ]
    }
   ],
   "source": [
    "network = NeuralNetwork(\n",
    "    layers=[\n",
    "        Dense(neurons=2, inputs=1),\n",
    "        Dense(neurons=3, inputs=2),\n",
    "        Dense(neurons=2, inputs=3),\n",
    "        Dense(neurons=1, inputs=2)\n",
    "    ]\n",
    ")\n",
    "network.forward(train_x, train_y)\n",
    "network.backward()"
   ]
  },
  {
   "cell_type": "code",
   "execution_count": null,
   "id": "3c7f3a09",
   "metadata": {},
   "outputs": [],
   "source": []
  },
  {
   "cell_type": "code",
   "execution_count": null,
   "id": "08c7e47e",
   "metadata": {},
   "outputs": [],
   "source": []
  },
  {
   "cell_type": "code",
   "execution_count": null,
   "id": "dcebb2d8",
   "metadata": {},
   "outputs": [],
   "source": []
  }
 ],
 "metadata": {
  "kernelspec": {
   "display_name": "Python 3 (ipykernel)",
   "language": "python",
   "name": "python3"
  },
  "language_info": {
   "codemirror_mode": {
    "name": "ipython",
    "version": 3
   },
   "file_extension": ".py",
   "mimetype": "text/x-python",
   "name": "python",
   "nbconvert_exporter": "python",
   "pygments_lexer": "ipython3",
   "version": "3.9.6"
  }
 },
 "nbformat": 4,
 "nbformat_minor": 5
}
